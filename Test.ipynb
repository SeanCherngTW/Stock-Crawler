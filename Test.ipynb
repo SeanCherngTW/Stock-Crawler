{
 "cells": [
  {
   "cell_type": "markdown",
   "metadata": {},
   "source": [
    "## Redis Server\n",
    "\n",
    "```\n",
    "sudo apt-get update\n",
    "sudo apt-get install redis-server\n",
    "```\n",
    "\n",
    "or\n",
    "\n",
    "```\n",
    "wget http://download.redis.io/releases/redis-6.0.8.tar.gz\n",
    "tar xzf redis-6.0.8.tar.gz\n",
    "cd redis-6.0.8\n",
    "make\n",
    "```\n",
    "\n",
    "```\n",
    "pip install redis==3.5.3\n",
    "REDIS_CONNECTION_URL=redis://127.0.0.1:6379\n",
    "```"
   ]
  },
  {
   "cell_type": "code",
   "execution_count": 2,
   "metadata": {},
   "outputs": [],
   "source": [
    "import redis\n",
    "redis_ip = 'redis://127.0.0.1:6379'\n",
    "redis_client = redis.StrictRedis.from_url(redis_ip)"
   ]
  },
  {
   "cell_type": "markdown",
   "metadata": {},
   "source": [
    "---"
   ]
  },
  {
   "cell_type": "markdown",
   "metadata": {},
   "source": [
    "## Main"
   ]
  },
  {
   "cell_type": "code",
   "execution_count": 119,
   "metadata": {},
   "outputs": [],
   "source": [
    "import time\n",
    "import json\n",
    "import requests\n",
    "from bs4 import BeautifulSoup\n",
    "from datetime import datetime\n",
    "from datetime import timedelta\n",
    "from selenium import webdriver"
   ]
  },
  {
   "cell_type": "code",
   "execution_count": 5,
   "metadata": {},
   "outputs": [
    {
     "name": "stderr",
     "output_type": "stream",
     "text": [
      "/Library/Frameworks/Python.framework/Versions/3.9/lib/python3.9/site-packages/selenium/webdriver/phantomjs/webdriver.py:49: UserWarning: Selenium support for PhantomJS has been deprecated, please use headless versions of Chrome or Firefox instead\n",
      "  warnings.warn('Selenium support for PhantomJS has been deprecated, please use headless '\n"
     ]
    }
   ],
   "source": [
    "driver = webdriver.PhantomJS(executable_path='./phantomjs-2.1.1-macosx/bin/phantomjs')  # PhantomJs"
   ]
  },
  {
   "cell_type": "code",
   "execution_count": null,
   "metadata": {},
   "outputs": [],
   "source": [
    "stock_id = '00878'\n",
    "url = 'https://goodinfo.tw/StockInfo/StockDetail.asp?STOCK_ID={}'.format(stock_id)\n",
    "driver.get(url)\n",
    "soup = BeautifulSoup(driver.page_source, 'html.parser')"
   ]
  },
  {
   "cell_type": "code",
   "execution_count": 7,
   "metadata": {},
   "outputs": [],
   "source": [
    "def get_name(soup, stock_id):\n",
    "    raw_id_name = soup.find(\n",
    "        name=\"a\",\n",
    "        class_=\"link_blue\",\n",
    "        href='StockDetail.asp?STOCK_ID={}'.format(stock_id),\n",
    "    ).text\n",
    "    \n",
    "    splitter = raw_id_name.find('\\xa0')\n",
    "    parsed_id, name = raw_id_name[:splitter], raw_id_name[splitter+1:]\n",
    "    assert parsed_id == stock_id, 'Parsed stock_id not match: got {} v.s. {}'.format(parsed_id, stock_id)\n",
    "    return name"
   ]
  },
  {
   "cell_type": "code",
   "execution_count": 8,
   "metadata": {},
   "outputs": [],
   "source": [
    "def get_beta(soup, stock_id):\n",
    "    raw_beta = soup.find(\n",
    "        name=\"table\",\n",
    "        class_='solid_1_padding_4_2_tbl',\n",
    "        style='font-size:11pt;line-height:20px;',\n",
    "    ).find_all('td')\n",
    "    \n",
    "    header = raw_beta[0]\n",
    "    assert header.find('nobr').text == '風險係數', 'soup parser error, 風險指數 not found in {}'.format(header)\n",
    "\n",
    "    num_interval = len(raw_beta) // 2\n",
    "    intervals = raw_beta[1:num_interval+1]\n",
    "    values = raw_beta[num_interval+1:]\n",
    "    \n",
    "    res = {}\n",
    "    interval_to_numeric_map = {\n",
    "        '5日': '5', '10日': '10',\n",
    "        '一個月': '20', '三個月': '60',\n",
    "        '半年': '120', '一年': '240', '三年': '720', \n",
    "        '五年': '1200', '十年': '2400', '二十年': '4800',\n",
    "    }\n",
    "    for interval, value in zip(intervals, values):\n",
    "        res[interval_to_numeric_map[interval.find('nobr').text]] = value.text\n",
    "        \n",
    "    return res"
   ]
  },
  {
   "cell_type": "code",
   "execution_count": 154,
   "metadata": {},
   "outputs": [],
   "source": [
    "def get_stock_info(stock_id, check_redis=True):\n",
    "    now_date = datetime.now()\n",
    "    \n",
    "    if now_date.hour <= 13:\n",
    "        last_market_closed = (now_date - timedelta(days=1)).replace(hour=14, minute=0, second=0)\n",
    "    else:\n",
    "        last_market_closed = now_date.replace(hour=14, minute=0, second=0)\n",
    "    \n",
    "    if check_redis and redis_client.exists(stock_id):\n",
    "        res = eval(redis_client.get(stock_id).decode())\n",
    "        update_date = datetime.strptime(res['update_date'], \"%Y/%m/%d %H:%M\")\n",
    "        print(update_date)\n",
    "        print(last_market_closed)\n",
    "        if update_date > last_market_closed:\n",
    "            return res\n",
    "        \n",
    "    print('Get data from web crawler')\n",
    "    url = 'https://goodinfo.tw/StockInfo/StockDetail.asp?STOCK_ID={}'.format(stock_id)\n",
    "    driver.get(url)\n",
    "    soup = BeautifulSoup(driver.page_source, 'html.parser')\n",
    "    \n",
    "    res = {}\n",
    "    res['id'] = stock_id\n",
    "    res['name'] = get_name(soup, stock_id)\n",
    "    res['beta'] = get_beta(soup, stock_id)\n",
    "    res['update_date'] = datetime.now().strftime(\"%Y/%m/%d %H:%M\")\n",
    "    \n",
    "    redis_client.set(stock_id, json.dumps(res, ensure_ascii=True))\n",
    "\n",
    "    return res"
   ]
  },
  {
   "cell_type": "code",
   "execution_count": 155,
   "metadata": {},
   "outputs": [
    {
     "name": "stdout",
     "output_type": "stream",
     "text": [
      "2021-01-23 14:01:00\n",
      "2021-01-23 14:00:00.330857\n",
      "Time cost: 0.003s\n",
      "{'id': '2330', 'name': '台積電', 'beta': {'5': '1.63', '10': '1.4', '20': '1.27', '60': '1.47', '120': '1.57', '240': '1.21', '720': '1.34', '1200': '1.35', '2400': '1.21', '4800': '1.14'}, 'update_date': '2021/01/23 14:01'}\n"
     ]
    }
   ],
   "source": [
    "start = time.time()\n",
    "    \n",
    "stock_id = '2330'\n",
    "res = get_stock_info(stock_id, check_redis=True)\n",
    "\n",
    "print('Time cost: {:.3f}s'.format(time.time() - start))\n",
    "print(res)"
   ]
  },
  {
   "cell_type": "code",
   "execution_count": 157,
   "metadata": {},
   "outputs": [
    {
     "name": "stdout",
     "output_type": "stream",
     "text": [
      "2021-01-23 14:02:00\n",
      "2021-01-23 14:00:00.326598\n"
     ]
    },
    {
     "data": {
      "text/plain": [
       "{'id': '2754',\n",
       " 'name': '亞洲藏壽司',\n",
       " 'beta': {'5': '1.26', '10': '0.86', '20': '0.85', '60': '0.73'},\n",
       " 'update_date': '2021/01/23 14:02'}"
      ]
     },
     "execution_count": 157,
     "metadata": {},
     "output_type": "execute_result"
    }
   ],
   "source": [
    "get_stock_info('2754', check_redis=True)"
   ]
  },
  {
   "cell_type": "code",
   "execution_count": null,
   "metadata": {},
   "outputs": [],
   "source": []
  }
 ],
 "metadata": {
  "kernelspec": {
   "display_name": "Python 3",
   "language": "python",
   "name": "python3"
  },
  "language_info": {
   "codemirror_mode": {
    "name": "ipython",
    "version": 3
   },
   "file_extension": ".py",
   "mimetype": "text/x-python",
   "name": "python",
   "nbconvert_exporter": "python",
   "pygments_lexer": "ipython3",
   "version": "3.9.0"
  }
 },
 "nbformat": 4,
 "nbformat_minor": 4
}
